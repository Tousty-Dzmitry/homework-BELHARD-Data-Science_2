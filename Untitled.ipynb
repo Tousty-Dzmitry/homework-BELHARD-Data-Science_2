{
 "cells": [
  {
   "cell_type": "code",
   "execution_count": 20,
   "id": "9a5ae18c-5ed2-47cb-b4f6-a1a863cfc29c",
   "metadata": {},
   "outputs": [
    {
     "name": "stdout",
     "output_type": "stream",
     "text": [
      "Версия pandas: 2.2.3\n"
     ]
    }
   ],
   "source": [
    "import pandas as pd\n",
    "print(f'Версия pandas: {pd.__version__}')"
   ]
  },
  {
   "cell_type": "code",
   "execution_count": 41,
   "id": "98b0b5b2-3909-4e7b-95b3-fcb9035d98d4",
   "metadata": {},
   "outputs": [
    {
     "name": "stdout",
     "output_type": "stream",
     "text": [
      "Requirement already satisfied: scikit-learn in /home/dzmitry/.pyenv/versions/3.10.0/lib/python3.10/site-packages (1.6.1)\n",
      "Requirement already satisfied: scipy>=1.6.0 in /home/dzmitry/.pyenv/versions/3.10.0/lib/python3.10/site-packages (from scikit-learn) (1.15.2)\n",
      "Requirement already satisfied: numpy>=1.19.5 in /home/dzmitry/.pyenv/versions/3.10.0/lib/python3.10/site-packages (from scikit-learn) (2.2.4)\n",
      "Requirement already satisfied: threadpoolctl>=3.1.0 in /home/dzmitry/.pyenv/versions/3.10.0/lib/python3.10/site-packages (from scikit-learn) (3.6.0)\n",
      "Requirement already satisfied: joblib>=1.2.0 in /home/dzmitry/.pyenv/versions/3.10.0/lib/python3.10/site-packages (from scikit-learn) (1.4.2)\n",
      "\u001b[33mWARNING: You are using pip version 21.2.3; however, version 25.0.1 is available.\n",
      "You should consider upgrading via the '/home/dzmitry/.pyenv/versions/3.10.0/bin/python3.10 -m pip install --upgrade pip' command.\u001b[0m\n",
      "Note: you may need to restart the kernel to use updated packages.\n"
     ]
    }
   ],
   "source": [
    "pip install scikit-learn"
   ]
  },
  {
   "cell_type": "code",
   "execution_count": 42,
   "id": "a011f438-12a2-4940-87e4-14bb500abc0c",
   "metadata": {},
   "outputs": [],
   "source": [
    "\n",
    "# ml_module.py\n",
    "import pandas as pd\n",
    "from sklearn.model_selection import train_test_split\n",
    "from sklearn.preprocessing import StandardScaler, OneHotEncoder\n",
    "from sklearn.compose import ColumnTransformer\n",
    "from sklearn.pipeline import Pipeline\n",
    "from sklearn.linear_model import LinearRegression\n",
    "from sklearn.metrics import mean_squared_error, r2_score\n",
    "def load_data(file_path):      \n",
    "    \"\"\"\n",
    "    Загрузка данных из CSV файла.\n",
    "    :param file_path: Путь к CSV файлу (например, \"data.csv\").\n",
    "    :return: DataFrame с загруженными данными.\n",
    "    \"\"\"\n",
    "    return pd.read_csv(file_path)\n",
    "                       \n",
    "def preprocess_data(df, target_column):\n",
    "    df.columns = df.columns.str.strip()  # Удаление лишних пробелов\n",
    "    if target_column not in df.columns:\n",
    "        raise ValueError(f\"Столбец '{target_column}' отсутствует в данных. Доступные столбцы: {df.columns.tolist()}\")  \n",
    "    \"\"\"\n",
    "    Предобработка данных: разделение на признаки и целевую переменную, масштабирование признаков.\n",
    "    :param df: DataFrame с данными.\n",
    "    :param target_column: Имя столбца с целевой переменной.\n",
    "    :return: Обработанные признаки, целевая переменная, препроцессор.\n",
    "    \"\"\"\n",
    "    X = df.drop(columns=[target_column])\n",
    "    y = df[target_column]\n",
    "         \n",
    "         # Определение числовых и категориальных признаков\n",
    "    numeric_features = ['Age', 'ID']\n",
    "    categorical_features = ['Gender', 'Department', 'City']\n",
    "\n",
    "    # Создание препроцессора\n",
    "    numeric_transformer = StandardScaler()\n",
    "    categorical_transformer = OneHotEncoder(drop='first')\n",
    "\n",
    "    preprocessor = ColumnTransformer(\n",
    "        transformers=[\n",
    "            ('num', numeric_transformer, numeric_features),\n",
    "            ('cat', categorical_transformer, categorical_features)\n",
    "        ])\n",
    "   # Применение препроцессора к данным\n",
    "    X_processed = preprocessor.fit_transform(X)\n",
    "    return X_processed, y, preprocessor\n",
    "def train_model(X, y):\n",
    "    \"\"\"\n",
    "    Обучение модели линейной регрессии.\n",
    "    :param X: Признаки.\n",
    "    :param y: Целевая переменная.\n",
    "    :return: Обученная модель.\n",
    "    \"\"\"\n",
    "    model = LinearRegression()\n",
    "    model.fit(X, y)\n",
    "    return model\n",
    "def predict(model, X):\n",
    "    \"\"\"\n",
    "    Предсказание на новых данных.\n",
    "    :param model: Обученная модель.\n",
    "    :param X: Признаки.\n",
    "    :return: Предсказанные значения.\n",
    "    \"\"\"\n",
    "    return model.predict(X)\n",
    "def evaluate_model(y_true, y_pred):\n",
    "    \"\"\"\n",
    "    Оценка модели с использованием метрик MSE и R^2.\n",
    "    :param y_true: Истинные значения.\n",
    "    :param y_pred: Предсказанные значения.\n",
    "    :return: MSE, R^2.\n",
    "    \"\"\"\n",
    "    mse = mean_squared_error(y_true, y_pred)\n",
    "    r2 = r2_score(y_true, y_pred)\n",
    "    return mse, r2\n"
   ]
  },
  {
   "cell_type": "code",
   "execution_count": 44,
   "id": "040d54db-645c-4785-9249-cd8175998dde",
   "metadata": {},
   "outputs": [
    {
     "ename": "ModuleNotFoundError",
     "evalue": "No module named 'ml_module'",
     "output_type": "error",
     "traceback": [
      "\u001b[0;31m---------------------------------------------------------------------------\u001b[0m",
      "\u001b[0;31mModuleNotFoundError\u001b[0m                       Traceback (most recent call last)",
      "Cell \u001b[0;32mIn[44], line 75\u001b[0m\n\u001b[1;32m     73\u001b[0m     \u001b[38;5;28;01mreturn\u001b[39;00m mse, r2\n\u001b[1;32m     74\u001b[0m \u001b[38;5;66;03m# main.py\u001b[39;00m\n\u001b[0;32m---> 75\u001b[0m \u001b[38;5;28;01mimport\u001b[39;00m\u001b[38;5;250m \u001b[39m\u001b[38;5;21;01mml_module\u001b[39;00m\u001b[38;5;250m \u001b[39m\u001b[38;5;28;01mas\u001b[39;00m\u001b[38;5;250m \u001b[39m\u001b[38;5;21;01mml\u001b[39;00m \n\u001b[1;32m     76\u001b[0m \u001b[38;5;28;01mfrom\u001b[39;00m\u001b[38;5;250m \u001b[39m\u001b[38;5;21;01msklearn\u001b[39;00m\u001b[38;5;21;01m.\u001b[39;00m\u001b[38;5;21;01mmodel_selection\u001b[39;00m\u001b[38;5;250m \u001b[39m\u001b[38;5;28;01mimport\u001b[39;00m train_test_split\n\u001b[1;32m     77\u001b[0m \u001b[38;5;28;01mimport\u001b[39;00m\u001b[38;5;250m \u001b[39m\u001b[38;5;21;01mmatplotlib\u001b[39;00m\u001b[38;5;21;01m.\u001b[39;00m\u001b[38;5;21;01mpyplot\u001b[39;00m\u001b[38;5;250m \u001b[39m\u001b[38;5;28;01mas\u001b[39;00m\u001b[38;5;250m \u001b[39m\u001b[38;5;21;01mplt\u001b[39;00m\n",
      "\u001b[0;31mModuleNotFoundError\u001b[0m: No module named 'ml_module'"
     ]
    }
   ],
   "source": [
    "# main.py\n",
    "import ml_module as ml \n",
    "from sklearn.model_selection import train_test_split\n",
    "import matplotlib.pyplot as plt\n",
    "\n",
    "# Загрузка данных\n",
    "file_path = 'Number of Deaths by Risk Factors.csv'  # Замените на путь к вашему CSV файлу\n",
    "data = ml.load_data(file_path)\n",
    "print(data.columns)  # Вывод доступных столбцов\n",
    "\n",
    "# Предобработка данных\n",
    "target_column = 'Salary'\n",
    "X, y, preprocessor = ml.preprocess_data(data, target_column)\n",
    "\n",
    "# Разделение данных на тренировочную и тестовую выборки\n",
    "X_train, X_test, y_train, y_test = train_test_split(X, y, test_size=0.3, random_state=42)\n",
    "\n",
    "# Обучение модели\n",
    "model = ml.train_model(X_train, y_train)\n",
    "\n",
    "# Предсказание на тестовых данных\n",
    "y_pred = ml.predict(model, X_test)\n",
    "\n",
    "# Оценка модели\n",
    "mse, r2 = ml.evaluate_model(y_test, y_pred)\n",
    "print(f\"Среднеквадратичная ошибка: {mse:.2f}\")\n",
    "print(f\"Коэффициент детерминации R^2: {r2:.2f}\")\n",
    "\n",
    "# Визуализация истинных и предсказанных значений\n",
    "def plot_predictions(y_true, y_pred, num_points=50):\n",
    "    num_points = min(num_points, len(y_true), len(y_pred))\n",
    "    \n",
    "    plt.figure(figsize=(10, 6))\n",
    "    plt.scatter(range(num_points), y_true[:num_points], color='blue', label='Истинные значения')     \n",
    "    plt.scatter(range(num_points), y_pred[:num_points], color='red', label='Предсказанные значения')\n",
    "    plt.xlabel('Индекс')\n",
    "    plt.ylabel('Значение Salary')  \n",
    "    plt.title(f'Истинные и предсказанные значения Salary (первые {num_points} точек)')\n",
    "    plt.legend()\n",
    "    plt.show()\n",
    "plot_predictions(y_test, y_pred)   "
   ]
  },
  {
   "cell_type": "code",
   "execution_count": 1,
   "id": "2e864d27-3b4e-4629-9081-fd9f53179fbf",
   "metadata": {},
   "outputs": [],
   "source": [
    "import pandas as pd\n",
    "\n",
    "# Пример DataFrame\n",
    "data = {'Name': ['Alice', 'Bob', 'Charlie'], 'Age': [25, 30, 35]}\n",
    "df = pd.DataFrame(data)\n",
    "\n",
    "# Перезапись файла (если существует — заменяется)\n",
    "df.to_csv('data.csv', index=False)  # index=False убирает запись индексов"
   ]
  },
  {
   "cell_type": "code",
   "execution_count": null,
   "id": "66fd9327-cd81-4791-b5f8-a228ddf75dac",
   "metadata": {},
   "outputs": [],
   "source": []
  }
 ],
 "metadata": {
  "kernelspec": {
   "display_name": "Python 3 (ipykernel)",
   "language": "python",
   "name": "python3"
  },
  "language_info": {
   "codemirror_mode": {
    "name": "ipython",
    "version": 3
   },
   "file_extension": ".py",
   "mimetype": "text/x-python",
   "name": "python",
   "nbconvert_exporter": "python",
   "pygments_lexer": "ipython3",
   "version": "3.10.0"
  }
 },
 "nbformat": 4,
 "nbformat_minor": 5
}
