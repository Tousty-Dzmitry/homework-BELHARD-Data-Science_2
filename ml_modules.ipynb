{
 "cells": [
  {
   "cell_type": "code",
   "execution_count": null,
   "id": "498f2113-4698-4a56-b030-f6c13433364f",
   "metadata": {},
   "outputs": [],
   "source": [
    "import pandas as pd\n",
    "def load_data(file):\n",
    "    return pd.read_csv(file)"
   ]
  },
  {
   "cell_type": "code",
   "execution_count": null,
   "id": "5f5ae3ee-644a-4bb1-871c-22420092188c",
   "metadata": {},
   "outputs": [],
   "source": [
    "import pandas as pd\n",
    "# ввод страны для поиска данных\n",
    "def preprocess_data(countr):\n",
    "    country = df[df['Entity'] == countr]\n",
    "    return country"
   ]
  },
  {
   "cell_type": "code",
   "execution_count": null,
   "id": "eb6251c9-d489-4899-94e5-706519e26a8b",
   "metadata": {},
   "outputs": [],
   "source": [
    "import pandas as pd\n",
    "import matplotlib.pyplot as plt\n",
    "\n",
    "# Загрузка данных\n",
    "df = pd.read_csv('country.csv')\n",
    "# Преобразование в словарь\n",
    "column_dict = df.to_dict('list')\n",
    "\n",
    "print(\"Все доступные ключи:\", column_dict.keys())\n",
    "\n",
    "def Deaths_by_Risk_Factors(a):\n",
    "        \n",
    "    factor_name = a\n",
    "    \n",
    "    # Пример DataFrame\n",
    "    df = pd.DataFrame({\n",
    "        'Year': column_dict['Year'][:],\n",
    "        'Factor': column_dict[factor_name][:]\n",
    "    })\n",
    "    plt.title(factor_name, fontsize=14, pad=20)\n",
    "    plt.xlabel('Год', fontsize=12, labelpad=10)\n",
    "    plt.ylabel('Количество случаев', fontsize=12, labelpad=10)\n",
    "    plt.bar(df['Year'], df['Factor'])\n",
    "    \n",
    "    return plt.show()"
   ]
  }
 ],
 "metadata": {
  "kernelspec": {
   "display_name": "Python 3 (ipykernel)",
   "language": "python",
   "name": "python3"
  },
  "language_info": {
   "codemirror_mode": {
    "name": "ipython",
    "version": 3
   },
   "file_extension": ".py",
   "mimetype": "text/x-python",
   "name": "python",
   "nbconvert_exporter": "python",
   "pygments_lexer": "ipython3",
   "version": "3.10.0"
  }
 },
 "nbformat": 4,
 "nbformat_minor": 5
}
